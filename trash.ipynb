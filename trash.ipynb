{
 "cells": [
  {
   "cell_type": "code",
   "execution_count": 56,
   "id": "9878f040",
   "metadata": {},
   "outputs": [],
   "source": [
    "import numpy as np\n",
    "import math\n",
    "import pandas as pd\n",
    "from sklearn.preprocessing import StandardScaler\n",
    "df = pd.read_csv(\"/Users/diptimanbora/Desktop/GitHub/linear-regression/data.csv\")"
   ]
  },
  {
   "cell_type": "code",
   "execution_count": null,
   "id": "9b66d8ae",
   "metadata": {},
   "outputs": [
    {
     "ename": "AttributeError",
     "evalue": "'numpy.ndarray' object has no attribute 'fit_transform'",
     "output_type": "error",
     "traceback": [
      "\u001b[0;31m---------------------------------------------------------------------------\u001b[0m",
      "\u001b[0;31mAttributeError\u001b[0m                            Traceback (most recent call last)",
      "Cell \u001b[0;32mIn[60], line 5\u001b[0m\n\u001b[1;32m      2\u001b[0m y \u001b[38;5;241m=\u001b[39m np\u001b[38;5;241m.\u001b[39marray(df[\u001b[38;5;124m'\u001b[39m\u001b[38;5;124mCO2\u001b[39m\u001b[38;5;124m'\u001b[39m])\n\u001b[1;32m      4\u001b[0m scaler \u001b[38;5;241m=\u001b[39m np\u001b[38;5;241m.\u001b[39marray(StandardScaler())\n\u001b[0;32m----> 5\u001b[0m X \u001b[38;5;241m=\u001b[39m scaler\u001b[38;5;241m.\u001b[39mfit_transform(X)\n\u001b[1;32m      8\u001b[0m n_sam, n_feat \u001b[38;5;241m=\u001b[39m X\u001b[38;5;241m.\u001b[39mshape\n\u001b[1;32m      9\u001b[0m weights \u001b[38;5;241m=\u001b[39m np\u001b[38;5;241m.\u001b[39mzeros(n_feat)\n",
      "\u001b[0;31mAttributeError\u001b[0m: 'numpy.ndarray' object has no attribute 'fit_transform'"
     ]
    }
   ],
   "source": [
    "X = df[['Weight', 'Volume']]\n",
    "y = np.array(df['CO2'])\n",
    "\n",
    "scaler = StandardScaler()\n",
    "X = scaler.fit_transform(X)\n",
    "\n",
    "\n",
    "n_sam, n_feat = X.shape\n",
    "weights = np.zeros(n_feat)\n",
    "bias = 0\n",
    "\n",
    "y_pred = X @ weights.T + bias\n",
    "cost = np.mean(np.square(y_pred - y))\n",
    "dw = 2 * (X.T @ (y_pred - y))\n",
    "db = 2 * np.mean(y_pred - y)\n",
    "weights -= 0.001 * dw\n",
    "bias -= 0.001 * db\n",
    "print(cost)\n",
    "print(weights)\n",
    "print(bias)\n",
    "\n",
    "y_pred = X @ weights.T + bias\n",
    "cost = np.mean(np.square(y_pred - y))\n",
    "dw = 2 * (X.T @ (y_pred - y))\n",
    "db = 2 * np.mean(y_pred - y)\n",
    "weights -= 0.001 * dw\n",
    "bias -= 0.001 * db\n",
    "print(cost)\n",
    "print(weights)\n",
    "print(bias)"
   ]
  }
 ],
 "metadata": {
  "kernelspec": {
   "display_name": "base",
   "language": "python",
   "name": "python3"
  },
  "language_info": {
   "codemirror_mode": {
    "name": "ipython",
    "version": 3
   },
   "file_extension": ".py",
   "mimetype": "text/x-python",
   "name": "python",
   "nbconvert_exporter": "python",
   "pygments_lexer": "ipython3",
   "version": "3.12.2"
  }
 },
 "nbformat": 4,
 "nbformat_minor": 5
}
